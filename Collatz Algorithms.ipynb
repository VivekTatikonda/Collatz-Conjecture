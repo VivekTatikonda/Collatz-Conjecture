{
 "cells": [
  {
   "cell_type": "code",
   "execution_count": 36,
   "metadata": {},
   "outputs": [
    {
     "name": "stdout",
     "output_type": "stream",
     "text": [
      "Enter number of digits: 10\n",
      "[10, 5, 16, 8, 4, 2, 1]\n"
     ]
    }
   ],
   "source": [
    "def Collatz(n):\n",
    "    a=[]\n",
    "    a.append(n)\n",
    "    while True:\n",
    "        if n == 1:\n",
    "            break\n",
    "        elif n%2 == 0:\n",
    "            a.append(int(n/2))\n",
    "            n=int(n/2)\n",
    "        else:\n",
    "            a.append(int(n*3+1))\n",
    "            n=int(n*3+1)\n",
    "    return a\n",
    "def main():\n",
    "    n=input('Enter number of digits: ')\n",
    "    while True:\n",
    "        try:\n",
    "            if int(n)<=0:\n",
    "                print('Enter Number greater than zero')\n",
    "            else:\n",
    "                n=int(n)\n",
    "                break\n",
    "        except ValueError:\n",
    "            print (\"Enter a positive integer.\")\n",
    "    print(Collatz(n))\n",
    "if __name__==\"__main__\":\n",
    "    main()"
   ]
  }
 ],
 "metadata": {
  "kernelspec": {
   "display_name": "Python 3",
   "language": "python",
   "name": "python3"
  },
  "language_info": {
   "codemirror_mode": {
    "name": "ipython",
    "version": 3
   },
   "file_extension": ".py",
   "mimetype": "text/x-python",
   "name": "python",
   "nbconvert_exporter": "python",
   "pygments_lexer": "ipython3",
   "version": "3.6.5"
  }
 },
 "nbformat": 4,
 "nbformat_minor": 2
}
